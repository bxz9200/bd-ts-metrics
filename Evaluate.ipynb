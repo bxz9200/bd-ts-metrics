{
 "cells": [
  {
   "cell_type": "code",
   "execution_count": 1,
   "id": "c23cc8b3-a6c1-42d5-a471-88081994a324",
   "metadata": {},
   "outputs": [
    {
     "name": "stderr",
     "output_type": "stream",
     "text": [
      "2025-01-16 21:35:55.175307: I tensorflow/core/util/port.cc:153] oneDNN custom operations are on. You may see slightly different numerical results due to floating-point round-off errors from different computation orders. To turn them off, set the environment variable `TF_ENABLE_ONEDNN_OPTS=0`.\n",
      "2025-01-16 21:35:55.249804: E external/local_xla/xla/stream_executor/cuda/cuda_fft.cc:477] Unable to register cuFFT factory: Attempting to register factory for plugin cuFFT when one has already been registered\n",
      "WARNING: All log messages before absl::InitializeLog() is called are written to STDERR\n",
      "E0000 00:00:1737034555.278371 2295664 cuda_dnn.cc:8310] Unable to register cuDNN factory: Attempting to register factory for plugin cuDNN when one has already been registered\n",
      "E0000 00:00:1737034555.286729 2295664 cuda_blas.cc:1418] Unable to register cuBLAS factory: Attempting to register factory for plugin cuBLAS when one has already been registered\n",
      "2025-01-16 21:35:55.357746: I tensorflow/core/platform/cpu_feature_guard.cc:210] This TensorFlow binary is optimized to use available CPU instructions in performance-critical operations.\n",
      "To enable the following instructions: AVX2 AVX_VNNI FMA, in other operations, rebuild TensorFlow with the appropriate compiler flags.\n"
     ]
    }
   ],
   "source": [
    "import os\n",
    "import datetime\n",
    "import numpy as np\n",
    "import matplotlib.pyplot as plt\n",
    "from scipy.linalg import sqrtm\n",
    "from dtaidistance.dtw_ndim import distance as multi_dtw_distance\n",
    "from src.ds_ps import discriminative_score_metrics, predictive_score_metrics\n",
    "from src.ts2vec import initialize_ts2vec\n",
    "from src.feature_based_measures import calculate_mdd, calculate_acd, calculate_sd, calculate_kd\n",
    "from src.visualization import visualize_tsne, visualize_distribution\n",
    "from src.utils import show_with_start_divider, show_with_end_divider, determine_device, write_json_data\n",
    "import pandas as pd"
   ]
  },
  {
   "cell_type": "code",
   "execution_count": 2,
   "id": "2eeea7b1-2bde-4021-bc0a-f6ffb1cf5c4f",
   "metadata": {},
   "outputs": [],
   "source": [
    "def sliding_window_view(data, window_size, step=1):\n",
    "    if data.ndim != 2:\n",
    "        raise ValueError(\"Input array must be 2D\")\n",
    "    L, C = data.shape  # Length and Channels\n",
    "    if L < window_size:\n",
    "        raise ValueError(\"Window size must be less than or equal to the length of the array\")\n",
    "\n",
    "    # Calculate the number of windows B\n",
    "    B = L // window_size\n",
    "    # B = L - window_size + 1\n",
    "\n",
    "    # Shape of the output array\n",
    "    new_shape = (B, window_size, C)\n",
    "\n",
    "    # Calculate strides\n",
    "    original_strides = data.strides\n",
    "    new_strides = (window_size * original_strides[0],) + original_strides  # (stride for L, stride for W, stride for C)\n",
    "    # new_strides = (original_strides[0],) + original_strides  # (stride for L, stride for W, stride for C)\n",
    "\n",
    "    # Create the sliding window view\n",
    "    strided_array = np.lib.stride_tricks.as_strided(data, shape=new_shape, strides=new_strides)\n",
    "    # strided_array = np.transpose(strided_array, axes=(0, 2, 1)) #(b c l)\n",
    "    return strided_array"
   ]
  },
  {
   "cell_type": "code",
   "execution_count": 41,
   "id": "4486d22d-5e3c-4def-8d3c-d5ac5ca8032b",
   "metadata": {},
   "outputs": [],
   "source": [
    "def sliding_window_view_tsgbench(data, window_size, step=1):\n",
    "    if data.ndim != 2:\n",
    "        raise ValueError(\"Input array must be 2D\")\n",
    "    L, C = data.shape  # Length and Channels\n",
    "    if L < window_size:\n",
    "        raise ValueError(\"Window size must be less than or equal to the length of the array\")\n",
    "\n",
    "    # Calculate the number of windows B\n",
    "    B = L - window_size + 1\n",
    "    \n",
    "    # Shape of the output array\n",
    "    new_shape = (B, window_size, C)\n",
    "    \n",
    "    # Calculate strides\n",
    "    original_strides = data.strides\n",
    "    new_strides = (original_strides[0],) + original_strides  # (stride for L, stride for W, stride for C)\n",
    "\n",
    "    # Create the sliding window view\n",
    "    strided_array = np.lib.stride_tricks.as_strided(data, shape=new_shape, strides=new_strides)\n",
    "    return strided_array"
   ]
  },
  {
   "cell_type": "code",
   "execution_count": 3,
   "id": "d845ee93-ebb5-4096-a66a-937f48524373",
   "metadata": {},
   "outputs": [],
   "source": [
    "def normalize(x):\n",
    "    x_norm = (x-np.min(x))/(np.max(x)-np.min(x))\n",
    "    return x_norm"
   ]
  },
  {
   "cell_type": "code",
   "execution_count": 4,
   "id": "266c51f7-ae22-4699-a0b7-a78493270854",
   "metadata": {},
   "outputs": [],
   "source": [
    "def calculate_fid(act1, act2):\n",
    "    # calculate mean and covariance statistics\n",
    "    mu1, sigma1 = act1.mean(axis=0), np.cov(act1, rowvar=False)\n",
    "    mu2, sigma2 = act2.mean(axis=0), np.cov(act2, rowvar=False)\n",
    "    # calculate sum squared difference between means\n",
    "    ssdiff = np.sum((mu1 - mu2)**2.0)\n",
    "    # calculate sqrt of product between cov\n",
    "    covmean = sqrtm(sigma1.dot(sigma2))\n",
    "    # check and correct imaginary numbers from sqrt\n",
    "    if np.iscomplexobj(covmean):\n",
    "        covmean = covmean.real\n",
    "    # calculate score\n",
    "    fid = ssdiff + np.trace(sigma1 + sigma2 - 2.0 * covmean)\n",
    "    return fid"
   ]
  },
  {
   "cell_type": "code",
   "execution_count": 5,
   "id": "bd2f1cae-d04b-4330-86d9-570f524130e0",
   "metadata": {},
   "outputs": [],
   "source": [
    "def calculate_ed(ori_data,gen_data):\n",
    "    n_samples = ori_data.shape[0]\n",
    "    n_series = ori_data.shape[2]\n",
    "    distance_eu = []\n",
    "    for i in range(n_samples):\n",
    "        total_distance_eu = 0\n",
    "        for j in range(n_series):\n",
    "            distance = np.linalg.norm(ori_data[i, :, j] - gen_data[i, :, j])\n",
    "            total_distance_eu += distance\n",
    "        distance_eu.append(total_distance_eu / n_series)\n",
    "\n",
    "    distance_eu = np.array(distance_eu)\n",
    "    average_distance_eu = distance_eu.mean()\n",
    "    return average_distance_eu"
   ]
  },
  {
   "cell_type": "code",
   "execution_count": 6,
   "id": "aae1c59d-4b39-4bb2-87e5-eada70787854",
   "metadata": {},
   "outputs": [],
   "source": [
    "def calculate_dtw(ori_data,comp_data):\n",
    "    distance_dtw = []\n",
    "    n_samples = ori_data.shape[0]\n",
    "    for i in range(n_samples):\n",
    "        distance = multi_dtw_distance(ori_data[i].astype(np.double), comp_data[i].astype(np.double), use_c=True)\n",
    "        distance_dtw.append(distance)\n",
    "\n",
    "    distance_dtw = np.array(distance_dtw)\n",
    "    average_distance_dtw = distance_dtw.mean()\n",
    "    return average_distance_dtw"
   ]
  },
  {
   "cell_type": "code",
   "execution_count": 7,
   "id": "4b82f197-a5ea-4c17-9b3e-0dee75075a6e",
   "metadata": {},
   "outputs": [],
   "source": [
    "# df_gen = np.load(\"../../Experiments/Cond_TimeVQVAE/exp_saved_models/Exp_orignial/Walmart.npy\")\n",
    "# # df_gen = df_gen.flatten()"
   ]
  },
  {
   "cell_type": "code",
   "execution_count": 57,
   "id": "25fff792-c39d-476a-b233-117f3daae5da",
   "metadata": {},
   "outputs": [
    {
     "name": "stdout",
     "output_type": "stream",
     "text": [
      "(49764, 1)\n"
     ]
    }
   ],
   "source": [
    "df_gen = pd.read_csv(\"../../Experiments/Cond_TimeVQVAE/synthetic_data/synthetic-Walmart.csv\")\n",
    "df_gen = df_gen.to_numpy()\n",
    "print(df_gen.shape)"
   ]
  },
  {
   "cell_type": "code",
   "execution_count": 56,
   "id": "d9f2fc5d-5ee0-4c28-8804-6bd1c180372c",
   "metadata": {},
   "outputs": [],
   "source": [
    "# df_real = pd.read_csv(\"../../Experiments/Cond_TimeVQVAE/datasets/CustomDataset/Walmart_test.csv\")\n",
    "# df_real = df_real['Weekly_Sales']\n",
    "# df_real.to_csv(\"../../Experiments/Cond_TimeVQVAE/datasets/CustomDataset/Walmart_test_weekly_sales.csv\", index=False)"
   ]
  },
  {
   "cell_type": "code",
   "execution_count": 60,
   "id": "8bd01ffd-9218-4e66-9743-63ad5e0e1955",
   "metadata": {},
   "outputs": [
    {
     "name": "stdout",
     "output_type": "stream",
     "text": [
      "(49764, 1)\n",
      "(49764, 1)\n"
     ]
    }
   ],
   "source": [
    "df_real = pd.read_csv(\"../../Experiments/Cond_TimeVQVAE/datasets/CustomDataset/Walmart_test_weekly_sales.csv\")\n",
    "df_real = df_real.to_numpy()\n",
    "print(df_real.shape)\n",
    "if len(df_real.shape) != 2:\n",
    "    df_real = df_real.reshape((df_real.shape[0],1))\n",
    "print(df_real.shape)"
   ]
  },
  {
   "cell_type": "code",
   "execution_count": 46,
   "id": "07f8f343-adc0-4438-80b0-0e3c42e16bd8",
   "metadata": {},
   "outputs": [
    {
     "name": "stdout",
     "output_type": "stream",
     "text": [
      "(49628, 143, 1)\n"
     ]
    }
   ],
   "source": [
    "df_real_tsgbench = sliding_window_view_tsgbench(df_real, 143)\n",
    "print(df_real_tsgbench.shape)"
   ]
  },
  {
   "cell_type": "code",
   "execution_count": 47,
   "id": "89b2f928-775d-4dea-9074-e8b9ee78aa97",
   "metadata": {},
   "outputs": [],
   "source": [
    "df_real = sliding_window_view(df_real, 143)"
   ]
  },
  {
   "cell_type": "code",
   "execution_count": 48,
   "id": "e2b766f1-5e9e-41d6-8380-0119f8029216",
   "metadata": {},
   "outputs": [
    {
     "name": "stdout",
     "output_type": "stream",
     "text": [
      "(348, 143, 1)\n",
      "(348, 143, 1)\n"
     ]
    }
   ],
   "source": [
    "print(df_real.shape)\n",
    "print(df_gen.shape)"
   ]
  },
  {
   "cell_type": "code",
   "execution_count": 20,
   "id": "4e61a873-5997-4200-a39a-a95fc4735b89",
   "metadata": {},
   "outputs": [
    {
     "name": "stdout",
     "output_type": "stream",
     "text": [
      "0.8382124527340145\n"
     ]
    }
   ],
   "source": [
    "ed = calculate_ed(normalize(df_real), normalize(df_gen))\n",
    "print(ed)"
   ]
  },
  {
   "cell_type": "code",
   "execution_count": 21,
   "id": "03267020-5662-4592-b3cc-f0aa75c28050",
   "metadata": {},
   "outputs": [
    {
     "name": "stdout",
     "output_type": "stream",
     "text": [
      "0.7595295411922902\n"
     ]
    }
   ],
   "source": [
    "dtw = calculate_dtw(normalize(df_real), normalize(df_gen))\n",
    "print(dtw)"
   ]
  },
  {
   "cell_type": "code",
   "execution_count": 22,
   "id": "79b27c1b-8d4f-4c01-ba03-9f05495edd3e",
   "metadata": {},
   "outputs": [
    {
     "ename": "ValueError",
     "evalue": "m has more than 2 dimensions",
     "output_type": "error",
     "traceback": [
      "\u001b[0;31m---------------------------------------------------------------------------\u001b[0m",
      "\u001b[0;31mValueError\u001b[0m                                Traceback (most recent call last)",
      "Cell \u001b[0;32mIn[22], line 1\u001b[0m\n\u001b[0;32m----> 1\u001b[0m fid \u001b[38;5;241m=\u001b[39m calculate_fid(df_real, df_gen)\n",
      "Cell \u001b[0;32mIn[4], line 3\u001b[0m, in \u001b[0;36mcalculate_fid\u001b[0;34m(act1, act2)\u001b[0m\n\u001b[1;32m      1\u001b[0m \u001b[38;5;28;01mdef\u001b[39;00m \u001b[38;5;21mcalculate_fid\u001b[39m(act1, act2):\n\u001b[1;32m      2\u001b[0m     \u001b[38;5;66;03m# calculate mean and covariance statistics\u001b[39;00m\n\u001b[0;32m----> 3\u001b[0m     mu1, sigma1 \u001b[38;5;241m=\u001b[39m act1\u001b[38;5;241m.\u001b[39mmean(axis\u001b[38;5;241m=\u001b[39m\u001b[38;5;241m0\u001b[39m), np\u001b[38;5;241m.\u001b[39mcov(act1, rowvar\u001b[38;5;241m=\u001b[39m\u001b[38;5;28;01mFalse\u001b[39;00m)\n\u001b[1;32m      4\u001b[0m     mu2, sigma2 \u001b[38;5;241m=\u001b[39m act2\u001b[38;5;241m.\u001b[39mmean(axis\u001b[38;5;241m=\u001b[39m\u001b[38;5;241m0\u001b[39m), np\u001b[38;5;241m.\u001b[39mcov(act2, rowvar\u001b[38;5;241m=\u001b[39m\u001b[38;5;28;01mFalse\u001b[39;00m)\n\u001b[1;32m      5\u001b[0m     \u001b[38;5;66;03m# calculate sum squared difference between means\u001b[39;00m\n",
      "File \u001b[0;32m~/miniconda3/envs/tsgbench/lib/python3.12/site-packages/numpy/lib/_function_base_impl.py:2686\u001b[0m, in \u001b[0;36mcov\u001b[0;34m(m, y, rowvar, bias, ddof, fweights, aweights, dtype)\u001b[0m\n\u001b[1;32m   2684\u001b[0m m \u001b[38;5;241m=\u001b[39m np\u001b[38;5;241m.\u001b[39masarray(m)\n\u001b[1;32m   2685\u001b[0m \u001b[38;5;28;01mif\u001b[39;00m m\u001b[38;5;241m.\u001b[39mndim \u001b[38;5;241m>\u001b[39m \u001b[38;5;241m2\u001b[39m:\n\u001b[0;32m-> 2686\u001b[0m     \u001b[38;5;28;01mraise\u001b[39;00m \u001b[38;5;167;01mValueError\u001b[39;00m(\u001b[38;5;124m\"\u001b[39m\u001b[38;5;124mm has more than 2 dimensions\u001b[39m\u001b[38;5;124m\"\u001b[39m)\n\u001b[1;32m   2688\u001b[0m \u001b[38;5;28;01mif\u001b[39;00m y \u001b[38;5;129;01mis\u001b[39;00m \u001b[38;5;129;01mnot\u001b[39;00m \u001b[38;5;28;01mNone\u001b[39;00m:\n\u001b[1;32m   2689\u001b[0m     y \u001b[38;5;241m=\u001b[39m np\u001b[38;5;241m.\u001b[39masarray(y)\n",
      "\u001b[0;31mValueError\u001b[0m: m has more than 2 dimensions"
     ]
    }
   ],
   "source": [
    "fid = calculate_fid(df_real, df_gen)"
   ]
  },
  {
   "cell_type": "code",
   "execution_count": 20,
   "id": "1a7f8f1a-98e5-49e8-a422-fed1b9a6cf84",
   "metadata": {},
   "outputs": [
    {
     "data": {
      "text/plain": [
       "(49770,)"
      ]
     },
     "execution_count": 20,
     "metadata": {},
     "output_type": "execute_result"
    }
   ],
   "source": [
    "df_real.shape"
   ]
  },
  {
   "cell_type": "code",
   "execution_count": null,
   "id": "7989f409-0c46-4f55-8095-56aec7df9aeb",
   "metadata": {},
   "outputs": [],
   "source": []
  }
 ],
 "metadata": {
  "kernelspec": {
   "display_name": "Python 3 (ipykernel)",
   "language": "python",
   "name": "python3"
  },
  "language_info": {
   "codemirror_mode": {
    "name": "ipython",
    "version": 3
   },
   "file_extension": ".py",
   "mimetype": "text/x-python",
   "name": "python",
   "nbconvert_exporter": "python",
   "pygments_lexer": "ipython3",
   "version": "3.12.8"
  }
 },
 "nbformat": 4,
 "nbformat_minor": 5
}
